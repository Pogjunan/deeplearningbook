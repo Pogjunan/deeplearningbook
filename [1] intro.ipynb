{
 "cells": [
  {
   "cell_type": "markdown",
   "id": "324c95c7-ccbe-4fa4-aecf-5d18022b614c",
   "metadata": {},
   "source": [
    "# `[1] introduction`"
   ]
  },
  {
   "cell_type": "markdown",
   "id": "1fe608dd-4b18-44c4-8ffd-4464d598c6ff",
   "metadata": {},
   "source": [
    "### `Chapter 1` <br>\n",
    "`IntroductionInventors have long dreamed of creating machines that think. This desire datesback to at least the time of ancient Greece. The mythical ﬁgures Pygmalion,Daedalus, and Hephaestus may all be interpreted as legendary inventors, andGalatea, Talos, and Pandora may all be regarded as artiﬁcial life (Ovid and Martin,2004; Sparkes, 1996; Tandy, 1997).`"
   ]
  },
  {
   "cell_type": "code",
   "execution_count": null,
   "id": "ec942213-3034-4124-b148-0b15bf93204c",
   "metadata": {},
   "outputs": [],
   "source": []
  }
 ],
 "metadata": {
  "kernelspec": {
   "display_name": "deep",
   "language": "python",
   "name": "deep"
  },
  "language_info": {
   "codemirror_mode": {
    "name": "ipython",
    "version": 3
   },
   "file_extension": ".py",
   "mimetype": "text/x-python",
   "name": "python",
   "nbconvert_exporter": "python",
   "pygments_lexer": "ipython3",
   "version": "3.10.13"
  }
 },
 "nbformat": 4,
 "nbformat_minor": 5
}
