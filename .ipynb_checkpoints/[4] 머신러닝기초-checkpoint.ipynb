{
 "cells": [
  {
   "cell_type": "markdown",
   "id": "a90e9692-8d91-4ebd-9d9d-4fafd0dc05a0",
   "metadata": {},
   "source": [
    "# [4] `Machine Learning Basics`"
   ]
  },
  {
   "cell_type": "markdown",
   "id": "23abd94e-c3bc-46cc-82e8-1ec762077309",
   "metadata": {},
   "source": [
    "Deep learning is a speciﬁc kind of machine learning. \n",
    "<br>\n",
    "딥러닝을 이해하기위햇 기초적인 머신러닝을 이해 해야 한다.\n",
    "<br>\n",
    "이번 챕터는 전통적인 머신러닝에 대해서 공부한다."
   ]
  },
  {
   "cell_type": "markdown",
   "id": "d1de45aa-b2ea-4465-9cc4-80bb3093ccee",
   "metadata": {},
   "source": [
    "[서론] <br>\n",
    " 복잡한 함수를 통계적으로 추정하기 위한 것이 머신러닝의 본질이고 통계의 두 가지 주요 접근 방식인 빈도주의 추정치과 베이지안 추론를 강조하여 실용성에 중점을 두고 있다. <br>\n",
    " 대부분의 기계학습은 supervised learning , unsupervised learning 을 나뉘고 이 범주에 대한 소개와 예시를 들고 딥러닝 알고리즘인 확률적 경사하강법과 최적화 알고리즘, loss function, model, data set 과 같은 다양한 알고리즘의 구성을 결합힌 기계 학습 알고리즘을 구축하는 방법에 대해 설명할 것이다."
   ]
  },
  {
   "cell_type": "markdown",
   "id": "b4afbf24-303d-4fca-85a5-5f5f30bb7406",
   "metadata": {},
   "source": [
    "# `[본론]`\n",
    "##  `Learning Algorithms`\n",
    "\n",
    "Learning 이 무엇인가? `Mitchell`님이 1997년 간결하고 명료하게 <br>\n",
    "```python\n",
    "\"A computer program is said to learn from experience E with respect to some class of tasks T and performance measure P, if its performance at tasks in T, as measured by P, improves with experienceE.”\n",
    "```\n",
    "라 정의하였다. <br>\n",
    "`해석` : 경험 E , 어떤 작업 T , 성능 측정 P 가 있는데 이 때 T 를 수행하고 P 에 의해 성능측정되며 경험 E 가 개선되는 것을 컴퓨터에서의 `learning` 이라고 한다. \n",
    "<br>\n",
    "\n",
    "이 책은 각각의 E ,T , P 에 대해서 형식적인 정의는 차치하고  기계 학습 알고리즘을 구성하는 데 사용할 수 있는 다양한 종류의 작업, 성능 측정 및 경험에 대해서 바로 알아보도록한다."
   ]
  },
  {
   "cell_type": "markdown",
   "id": "6531402d-cd57-44c5-b0ea-e3abc8f06120",
   "metadata": {},
   "source": [
    "# `1  The Task, T`\n",
    "- 머신러닝은 인간 삶이 너무 복잡하게 디자인되어 프로그래밍으로 풀기 힘든 작업에 대해서 대처할 수 있는 수단을 제공한다.\n",
    "\n",
    "<br>\n",
    "\n",
    "`formal deﬁnition of the word “task,” the process of learning itself is not the task. Learning is our means of attaining the ability to perform thetask.` <br>\n",
    " : task 는 학습과정 자체를 의미하는게 아니라 학습은 작업을 수행할 수 있는 능력을 획득하는 수단을 의미한다.\n",
    "\n",
    " <br>\n",
    "예시 : 로봇을 움직이게 하고 싶을 때 움직이는 것 자체가 Task 이고 걷게 프로그래밍하는 것과 구체적인 걷는 메뉴얼에 대한 프로그래밍이 모두가 Task 이다.\n",
    "\n",
    "<br>\n",
    "\n",
    "- 머신러닝의 Task\n",
    "머신러닝 시스템이 처리하기를 원하는 어떤 객체나 사적으로 측정된 특징(feature)의 집합이다. \n",
    "우리는 각각의 항목이 다른 feature의 벡터 $x$ ∈ $R^n$ 를 훈련하는 시키는 것에 목적이 있다.\n",
    "<br>\n",
    " "
   ]
  },
  {
   "cell_type": "markdown",
   "id": "b456ac9c-63f1-4b29-b797-f44c4ee45347",
   "metadata": {},
   "source": [
    "## $ Task$ $ of $ $ Machine $ $learning$\n"
   ]
  },
  {
   "cell_type": "markdown",
   "id": "396503d6-c840-4ed1-b97f-4a890f9eadcc",
   "metadata": {},
   "source": [
    "\n",
    "## 1. Classfication(분류)\n",
    "\n",
    "<br> : 범주를 지정하여 $f  : R^n$ 를 {1,2, ... , k } 중 하나로 분류하는 작업을 한다,  \n",
    "$y=f(x)$ 일 때는 벡터 $x$ 를 숫자인 $y$ 인 범주에 할당시키는 방식으로 작업한다.\n",
    "<br>\n",
    "이 후에 $f(x)$ 에 다양한 확률분포를 넣는 경우를 자주 볼 것이고 activation function 에서 이 방식을 수행한다."
   ]
  },
  {
   "cell_type": "markdown",
   "id": "81b1ebe8-101c-435f-b493-d154169a136c",
   "metadata": {},
   "source": [
    "####  Classiﬁcation with missing inputs: <br>\n",
    "누락이 자주 발생할 수 있다. 이에 대해서 대처방식은 일반화될 수 있도록 확률분포에 적용시키는 것이고 \n",
    "예시로 (https://arxiv.org/pdf/1302.4389.pdf) Goodfellow 님의 2013년 논문인 Maxout Network 에서 직접적인 missing input 에 대해 예시를 볼 수 있다."
   ]
  },
  {
   "cell_type": "markdown",
   "id": "1217b046-0033-47ea-9236-a38b4ab572c5",
   "metadata": {},
   "source": [
    "## 2. Regression (회귀)\n",
    "<br>\n",
    ": 위에서 $f : R^n$ -> $R$ 로 숫자를 직접 지정하는 과정으로 작업이 된다.분류와 비슷하며 output 만 다른 형태라 생각하면 되고 그 때문에 중간과정도 약간 다르다."
   ]
  },
  {
   "cell_type": "markdown",
   "id": "731a9dfb-08e1-4f9a-8983-c4f350363650",
   "metadata": {},
   "source": [
    "## 3. Transcription (변환) \n",
    "<br>\n",
    ": 표와 같이 구조화된 문제 뿐만 아니라 구조화되지 않은 문제에 대해서도 딥러닝이 다루고 있다. 이를 다루기 위해서는 변환이 필수적이고 구성요소의 변환은 결국 비정형을 숫자로 바꿈으로 계산을 가능하게 한다."
   ]
  },
  {
   "cell_type": "markdown",
   "id": "8c17d971-4c71-47aa-861d-748905da1b52",
   "metadata": {},
   "source": [
    "## 4. Synthesis and sampling (합성과 샘플링) \n",
    "<br>\n",
    ": 새로운 데이터를 생성하는 것에 목적이 있으며 큰 content 에 대해 비싸고, 시간이 많이 들 때에 효과적이다, \n",
    "어떤 경우에는 샘플링이나 합성 절차를 통해 입력에 따라 특정 종류의 출력이 생성되기를 원하기도 한다.\n",
    "<br>\n",
    "예시 : 음성 버전이 포함된 오디오 파형을 내보내도록 프로그램에 요청\n",
    "<br>\n",
    "일종의 구조화된 출력 작업이지만 각 입력에 대해 단 하나의 올바른 출력이 있다는 추가 조건이 추가될 때 출력이 더 자연스럽고 현실적으로 보이도록 출력에 많은 양의 변형이 필요할 수 있다."
   ]
  },
  {
   "cell_type": "code",
   "execution_count": null,
   "id": "2824e01b-ea3f-47a2-a545-8d4a4e7c935a",
   "metadata": {},
   "outputs": [],
   "source": []
  }
 ],
 "metadata": {
  "kernelspec": {
   "display_name": "deep",
   "language": "python",
   "name": "deep"
  },
  "language_info": {
   "codemirror_mode": {
    "name": "ipython",
    "version": 3
   },
   "file_extension": ".py",
   "mimetype": "text/x-python",
   "name": "python",
   "nbconvert_exporter": "python",
   "pygments_lexer": "ipython3",
   "version": "3.10.13"
  }
 },
 "nbformat": 4,
 "nbformat_minor": 5
}
