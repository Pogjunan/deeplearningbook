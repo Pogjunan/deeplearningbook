{
 "cells": [
  {
   "cell_type": "markdown",
   "id": "0dad36d7-1772-4ed3-a619-ff7adb0e8486",
   "metadata": {},
   "source": [
    "[5] Modern Practical Deep Networks"
   ]
  }
 ],
 "metadata": {
  "kernelspec": {
   "display_name": "deep",
   "language": "python",
   "name": "deep"
  },
  "language_info": {
   "codemirror_mode": {
    "name": "ipython",
    "version": 3
   },
   "file_extension": ".py",
   "mimetype": "text/x-python",
   "name": "python",
   "nbconvert_exporter": "python",
   "pygments_lexer": "ipython3",
   "version": "3.10.13"
  }
 },
 "nbformat": 4,
 "nbformat_minor": 5
}
