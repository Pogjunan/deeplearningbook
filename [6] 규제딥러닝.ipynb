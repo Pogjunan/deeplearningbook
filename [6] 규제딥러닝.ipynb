{
 "cells": [
  {
   "cell_type": "markdown",
   "id": "f6a6c174-46d8-46a8-a67b-df2479831f3b",
   "metadata": {},
   "source": [
    "# [6] `Regularization for Deep Learning`"
   ]
  },
  {
   "cell_type": "markdown",
   "id": "061ecf29-1ed4-4b42-b8e2-e6835a897feb",
   "metadata": {},
   "source": [
    "```\n",
    "A central problem in machine learning is how to make an algorithm that willperform well not just on the training data, but also on new inputs.\n",
    "```"
   ]
  },
  {
   "cell_type": "code",
   "execution_count": null,
   "id": "0d000fe9-25a9-4a83-82d1-1acfeb3f3d46",
   "metadata": {},
   "outputs": [],
   "source": []
  }
 ],
 "metadata": {
  "kernelspec": {
   "display_name": "deep",
   "language": "python",
   "name": "deep"
  },
  "language_info": {
   "codemirror_mode": {
    "name": "ipython",
    "version": 3
   },
   "file_extension": ".py",
   "mimetype": "text/x-python",
   "name": "python",
   "nbconvert_exporter": "python",
   "pygments_lexer": "ipython3",
   "version": "3.10.13"
  }
 },
 "nbformat": 4,
 "nbformat_minor": 5
}
