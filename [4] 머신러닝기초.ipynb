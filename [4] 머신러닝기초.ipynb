{
 "cells": [
  {
   "cell_type": "markdown",
   "id": "a90e9692-8d91-4ebd-9d9d-4fafd0dc05a0",
   "metadata": {},
   "source": [
    "# [4] `Machine Learning Basics`"
   ]
  },
  {
   "cell_type": "markdown",
   "id": "23abd94e-c3bc-46cc-82e8-1ec762077309",
   "metadata": {},
   "source": [
    "Deep learning is a speciﬁc kind of machine learning. \n",
    "<br>\n",
    "딥러닝을 이해하기위햇 기초적인 머신러닝을 이해해야한다.\n",
    "<br>\n",
    "이번 챕터는 전통적인 머신러닝에 대해서 알려줄 예정이다."
   ]
  },
  {
   "cell_type": "markdown",
   "id": "d1de45aa-b2ea-4465-9cc4-80bb3093ccee",
   "metadata": {},
   "source": [
    "[서론] <br>\n",
    " 복잡한 함수를 통계적으로 추정하기 위한 것이 머신러닝의 본질이고 통계의 두 가지 주요 접근 방식인 빈도주의 추정치과 베이지안 추론를 강조하여 실용성에 중점을 두고 있다. <br>\n",
    " 대부분의 기계학습은 supervised learning , unsupervised learning 을 나뉘고 이 범주에 대한 소개와 예시를 들고 딥러닝 알고리즘인 확률적 경사하강법과 최적화 알고리즘, loss function, model, data set 과 같은 다양한 알고리즘의 구성을 결합힌 기계 학습 알고리즘을 구축하는 방법에 대해 설명할 예정이다."
   ]
  },
  {
   "cell_type": "markdown",
   "id": "b4afbf24-303d-4fca-85a5-5f5f30bb7406",
   "metadata": {},
   "source": [
    "# `[본론]`\n",
    "##  `Learning Algorithms`\n",
    "\n",
    "Learning 이 무엇인가? `Mitchell`님이 1997년 간결하고 명료하게 <br>\n",
    "```python\n",
    "\"A computer program is said to learn from experience E with respect to some class of tasks T and performance measure P, if its performance at tasks in T, as measured by P, improves with experienceE.”\n",
    "```\n",
    "라 정의하였다. <br>\n",
    "`해석` : 경험 E , 어떤 작업 T , 성능 측정 P 가 있는데 이 때 T 를 수행하고 P 에 의해 성능측정되며 경험 E 가 개선되는 것을 컴퓨터에서의 `learning` 이라고 한다. \n",
    "<br>\n",
    "\n",
    "이 책은 각각의 E ,T , P 에 대해서 형식적인 정의는 차치하고  기계 학습 알고리즘을 구성하는 데 사용할 수 있는 다양한 종류의 작업, 성능 측정 및 경험에 대해서 바로 알아보도록한다."
   ]
  },
  {
   "cell_type": "markdown",
   "id": "100879c1-8fc4-450e-8d43-81cc0937745a",
   "metadata": {},
   "source": [
    "# `1  TheTask, T`\n",
    "- 머신러닝은 인간 삶이 너무 복잡하게 디자인되어 프로그래밍으로 풀기 힘든 작업에 대해서 대처할 수 있는 수단을 제공한다.\n",
    "\n",
    "<br>\n",
    "\n",
    "`formal deﬁnition of the word “task,” the process of learning itself is not the task. Learning is our means of attaining the ability to perform thetask.` <br>\n",
    " : task 는 학습과정을 의미하는게 아니라 학습은 작업을 수행할 수 있는 능력을 획득하는 수단을 의미한다.\n",
    "\n",
    " <br>\n"
   ]
  },
  {
   "cell_type": "code",
   "execution_count": null,
   "id": "0d9db18d-e7ed-406e-9e0d-d19a403912f3",
   "metadata": {},
   "outputs": [],
   "source": []
  }
 ],
 "metadata": {
  "kernelspec": {
   "display_name": "deep",
   "language": "python",
   "name": "deep"
  },
  "language_info": {
   "codemirror_mode": {
    "name": "ipython",
    "version": 3
   },
   "file_extension": ".py",
   "mimetype": "text/x-python",
   "name": "python",
   "nbconvert_exporter": "python",
   "pygments_lexer": "ipython3",
   "version": "3.10.13"
  }
 },
 "nbformat": 4,
 "nbformat_minor": 5
}
